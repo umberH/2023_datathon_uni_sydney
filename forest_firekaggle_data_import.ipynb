{
  "nbformat": 4,
  "nbformat_minor": 0,
  "metadata": {
    "colab": {
      "provenance": [],
      "authorship_tag": "ABX9TyMtSa38OlHUnDQcjHIXeqCF",
      "include_colab_link": true
    },
    "kernelspec": {
      "name": "python3",
      "display_name": "Python 3"
    },
    "language_info": {
      "name": "python"
    }
  },
  "cells": [
    {
      "cell_type": "markdown",
      "metadata": {
        "id": "view-in-github",
        "colab_type": "text"
      },
      "source": [
        "<a href=\"https://colab.research.google.com/github/umberH/2023_datathon_uni_sydney/blob/main/forest_firekaggle_data_import.ipynb\" target=\"_parent\"><img src=\"https://colab.research.google.com/assets/colab-badge.svg\" alt=\"Open In Colab\"/></a>"
      ]
    },
    {
      "cell_type": "markdown",
      "source": [
        "##  Install Prereq libraries"
      ],
      "metadata": {
        "id": "-vjIXP_iVUzd"
      }
    },
    {
      "cell_type": "markdown",
      "source": [
        "Install the Prerequisites required for this execution. These pre=requisites involve\n",
        "\n",
        "\n",
        "\n",
        "*   Kaggle\n",
        "*   List item\n",
        "\n"
      ],
      "metadata": {
        "id": "0YFMRhWCuHYQ"
      }
    },
    {
      "cell_type": "code",
      "source": [
        "! pip install -q kaggle"
      ],
      "metadata": {
        "id": "mdtO5TAxVOMi"
      },
      "execution_count": 2,
      "outputs": []
    },
    {
      "cell_type": "markdown",
      "source": [
        "## Imports"
      ],
      "metadata": {
        "id": "Wz05C-0UVcGL"
      }
    },
    {
      "cell_type": "code",
      "source": [
        "from google.colab import files\n",
        "import pandas as pd"
      ],
      "metadata": {
        "id": "vM5C2HcQVUJl"
      },
      "execution_count": 1,
      "outputs": []
    },
    {
      "cell_type": "code",
      "source": [
        "files.upload()\n"
      ],
      "metadata": {
        "colab": {
          "base_uri": "https://localhost:8080/",
          "height": 91
        },
        "id": "TNm8nDsdVgBf",
        "outputId": "85232840-f990-4bca-9817-d223ea4219b6"
      },
      "execution_count": 3,
      "outputs": [
        {
          "output_type": "display_data",
          "data": {
            "text/plain": [
              "<IPython.core.display.HTML object>"
            ],
            "text/html": [
              "\n",
              "     <input type=\"file\" id=\"files-b0ef4013-db06-436c-b6e8-d8c2c91b7a35\" name=\"files[]\" multiple disabled\n",
              "        style=\"border:none\" />\n",
              "     <output id=\"result-b0ef4013-db06-436c-b6e8-d8c2c91b7a35\">\n",
              "      Upload widget is only available when the cell has been executed in the\n",
              "      current browser session. Please rerun this cell to enable.\n",
              "      </output>\n",
              "      <script>// Copyright 2017 Google LLC\n",
              "//\n",
              "// Licensed under the Apache License, Version 2.0 (the \"License\");\n",
              "// you may not use this file except in compliance with the License.\n",
              "// You may obtain a copy of the License at\n",
              "//\n",
              "//      http://www.apache.org/licenses/LICENSE-2.0\n",
              "//\n",
              "// Unless required by applicable law or agreed to in writing, software\n",
              "// distributed under the License is distributed on an \"AS IS\" BASIS,\n",
              "// WITHOUT WARRANTIES OR CONDITIONS OF ANY KIND, either express or implied.\n",
              "// See the License for the specific language governing permissions and\n",
              "// limitations under the License.\n",
              "\n",
              "/**\n",
              " * @fileoverview Helpers for google.colab Python module.\n",
              " */\n",
              "(function(scope) {\n",
              "function span(text, styleAttributes = {}) {\n",
              "  const element = document.createElement('span');\n",
              "  element.textContent = text;\n",
              "  for (const key of Object.keys(styleAttributes)) {\n",
              "    element.style[key] = styleAttributes[key];\n",
              "  }\n",
              "  return element;\n",
              "}\n",
              "\n",
              "// Max number of bytes which will be uploaded at a time.\n",
              "const MAX_PAYLOAD_SIZE = 100 * 1024;\n",
              "\n",
              "function _uploadFiles(inputId, outputId) {\n",
              "  const steps = uploadFilesStep(inputId, outputId);\n",
              "  const outputElement = document.getElementById(outputId);\n",
              "  // Cache steps on the outputElement to make it available for the next call\n",
              "  // to uploadFilesContinue from Python.\n",
              "  outputElement.steps = steps;\n",
              "\n",
              "  return _uploadFilesContinue(outputId);\n",
              "}\n",
              "\n",
              "// This is roughly an async generator (not supported in the browser yet),\n",
              "// where there are multiple asynchronous steps and the Python side is going\n",
              "// to poll for completion of each step.\n",
              "// This uses a Promise to block the python side on completion of each step,\n",
              "// then passes the result of the previous step as the input to the next step.\n",
              "function _uploadFilesContinue(outputId) {\n",
              "  const outputElement = document.getElementById(outputId);\n",
              "  const steps = outputElement.steps;\n",
              "\n",
              "  const next = steps.next(outputElement.lastPromiseValue);\n",
              "  return Promise.resolve(next.value.promise).then((value) => {\n",
              "    // Cache the last promise value to make it available to the next\n",
              "    // step of the generator.\n",
              "    outputElement.lastPromiseValue = value;\n",
              "    return next.value.response;\n",
              "  });\n",
              "}\n",
              "\n",
              "/**\n",
              " * Generator function which is called between each async step of the upload\n",
              " * process.\n",
              " * @param {string} inputId Element ID of the input file picker element.\n",
              " * @param {string} outputId Element ID of the output display.\n",
              " * @return {!Iterable<!Object>} Iterable of next steps.\n",
              " */\n",
              "function* uploadFilesStep(inputId, outputId) {\n",
              "  const inputElement = document.getElementById(inputId);\n",
              "  inputElement.disabled = false;\n",
              "\n",
              "  const outputElement = document.getElementById(outputId);\n",
              "  outputElement.innerHTML = '';\n",
              "\n",
              "  const pickedPromise = new Promise((resolve) => {\n",
              "    inputElement.addEventListener('change', (e) => {\n",
              "      resolve(e.target.files);\n",
              "    });\n",
              "  });\n",
              "\n",
              "  const cancel = document.createElement('button');\n",
              "  inputElement.parentElement.appendChild(cancel);\n",
              "  cancel.textContent = 'Cancel upload';\n",
              "  const cancelPromise = new Promise((resolve) => {\n",
              "    cancel.onclick = () => {\n",
              "      resolve(null);\n",
              "    };\n",
              "  });\n",
              "\n",
              "  // Wait for the user to pick the files.\n",
              "  const files = yield {\n",
              "    promise: Promise.race([pickedPromise, cancelPromise]),\n",
              "    response: {\n",
              "      action: 'starting',\n",
              "    }\n",
              "  };\n",
              "\n",
              "  cancel.remove();\n",
              "\n",
              "  // Disable the input element since further picks are not allowed.\n",
              "  inputElement.disabled = true;\n",
              "\n",
              "  if (!files) {\n",
              "    return {\n",
              "      response: {\n",
              "        action: 'complete',\n",
              "      }\n",
              "    };\n",
              "  }\n",
              "\n",
              "  for (const file of files) {\n",
              "    const li = document.createElement('li');\n",
              "    li.append(span(file.name, {fontWeight: 'bold'}));\n",
              "    li.append(span(\n",
              "        `(${file.type || 'n/a'}) - ${file.size} bytes, ` +\n",
              "        `last modified: ${\n",
              "            file.lastModifiedDate ? file.lastModifiedDate.toLocaleDateString() :\n",
              "                                    'n/a'} - `));\n",
              "    const percent = span('0% done');\n",
              "    li.appendChild(percent);\n",
              "\n",
              "    outputElement.appendChild(li);\n",
              "\n",
              "    const fileDataPromise = new Promise((resolve) => {\n",
              "      const reader = new FileReader();\n",
              "      reader.onload = (e) => {\n",
              "        resolve(e.target.result);\n",
              "      };\n",
              "      reader.readAsArrayBuffer(file);\n",
              "    });\n",
              "    // Wait for the data to be ready.\n",
              "    let fileData = yield {\n",
              "      promise: fileDataPromise,\n",
              "      response: {\n",
              "        action: 'continue',\n",
              "      }\n",
              "    };\n",
              "\n",
              "    // Use a chunked sending to avoid message size limits. See b/62115660.\n",
              "    let position = 0;\n",
              "    do {\n",
              "      const length = Math.min(fileData.byteLength - position, MAX_PAYLOAD_SIZE);\n",
              "      const chunk = new Uint8Array(fileData, position, length);\n",
              "      position += length;\n",
              "\n",
              "      const base64 = btoa(String.fromCharCode.apply(null, chunk));\n",
              "      yield {\n",
              "        response: {\n",
              "          action: 'append',\n",
              "          file: file.name,\n",
              "          data: base64,\n",
              "        },\n",
              "      };\n",
              "\n",
              "      let percentDone = fileData.byteLength === 0 ?\n",
              "          100 :\n",
              "          Math.round((position / fileData.byteLength) * 100);\n",
              "      percent.textContent = `${percentDone}% done`;\n",
              "\n",
              "    } while (position < fileData.byteLength);\n",
              "  }\n",
              "\n",
              "  // All done.\n",
              "  yield {\n",
              "    response: {\n",
              "      action: 'complete',\n",
              "    }\n",
              "  };\n",
              "}\n",
              "\n",
              "scope.google = scope.google || {};\n",
              "scope.google.colab = scope.google.colab || {};\n",
              "scope.google.colab._files = {\n",
              "  _uploadFiles,\n",
              "  _uploadFilesContinue,\n",
              "};\n",
              "})(self);\n",
              "</script> "
            ]
          },
          "metadata": {}
        },
        {
          "output_type": "stream",
          "name": "stdout",
          "text": [
            "Saving kaggle.json to kaggle.json\n"
          ]
        },
        {
          "output_type": "execute_result",
          "data": {
            "text/plain": [
              "{'kaggle.json': b'{\"username\":\"umbreenh\",\"key\":\"c3171f8b9703289df4fbdc561d14cf08\"}'}"
            ]
          },
          "metadata": {},
          "execution_count": 3
        }
      ]
    },
    {
      "cell_type": "code",
      "source": [
        "!mkdir -p ~/.kaggle\n",
        "!cp kaggle.json ~/.kaggle/\n",
        "!chmod 600 ~/.kaggle/kaggle.json\n",
        "! kaggle datasets list\n",
        "dataset_name = \"elikplim/forest-fires-data-set\"\n",
        "\n",
        "!kaggle datasets download -d $dataset_name\n"
      ],
      "metadata": {
        "colab": {
          "base_uri": "https://localhost:8080/"
        },
        "id": "G5oEj9YkWhGC",
        "outputId": "765e09bb-d01f-4f0b-d475-0d1f708edd82"
      },
      "execution_count": 4,
      "outputs": [
        {
          "output_type": "stream",
          "name": "stdout",
          "text": [
            "ref                                                        title                                             size  lastUpdated          downloadCount  voteCount  usabilityRating  \n",
            "---------------------------------------------------------  -----------------------------------------------  -----  -------------------  -------------  ---------  ---------------  \n",
            "rabieelkharoua/students-performance-dataset                📚 Students Performance Dataset 📚                  66KB  2024-06-12 23:09:20          23625        494  1.0              \n",
            "waqi786/cars-dataset-2010-2020                             Cars Dataset (2010-2020)                          96KB  2024-07-23 05:49:46           1126         27  1.0              \n",
            "waqi786/e-commerce-clickstream-and-transaction-dataset     E-commerce Clickstream and Transaction Dataset     1MB  2024-07-24 10:17:49            839         28  1.0              \n",
            "dataanalyst001/world-marriage-dataset                      World Marriage Dataset                             1MB  2024-07-21 06:09:24            930         22  1.0              \n",
            "anishvijay/global-renewable-energy-and-indicators-dataset  Global Renewable Energy and Indicators Dataset   902KB  2024-07-25 11:10:39            733         21  0.9411765        \n",
            "ihelon/coffee-sales                                        Coffee Sales                                      12KB  2024-07-27 13:25:21           7691        120  1.0              \n",
            "nelgiriyewithana/most-streamed-spotify-songs-2024          Most Streamed Spotify Songs 2024                 496KB  2024-06-15 18:50:51          17431        357  1.0              \n",
            "waqi786/movies-dataset-1980-2020                           Movies Dataset (1980-2020)                       645KB  2024-07-22 13:49:26           1428         35  1.0              \n",
            "waqi786/songs-dataset-2000-2020-50k-records                Songs Dataset (2000-2020, 50k Records)             1MB  2024-07-21 15:53:33            747         23  1.0              \n",
            "fratzcan/usa-house-prices                                  USA House Prices                                 119KB  2024-07-21 14:49:50           1136         26  0.9411765        \n",
            "waqi786/medical-costs                                      Medical Costs                                     95KB  2024-07-24 04:25:53           1118         30  1.0              \n",
            "gorororororo23/aereregre                                   European and International Music Festivals 2024    4KB  2024-07-28 17:51:33            629         23  1.0              \n",
            "waqi786/student-performance-dataset                        📚 Student Performance Dataset 📚                    6KB  2024-07-26 04:24:34            737         29  1.0              \n",
            "melissamonfared/indicators-of-anxiety-or-depression        Indicators of Anxiety or Depression              255KB  2024-07-23 09:25:03            123         99  1.0              \n",
            "preethamgouda/financial-risk                               Financial_Risk                                   693KB  2024-07-23 07:20:58            995         27  1.0              \n",
            "humairmunir/lung-cancer-risk-dataset                       Lung Cancer Dataset                               21KB  2024-07-17 14:25:57           1091         34  1.0              \n",
            "melissamonfared/death-rates-united-states                  Death Rates                                       85KB  2024-07-23 08:51:30             99         97  1.0              \n",
            "melissamonfared/weight-among-adults                        Weight Among Adults                               30KB  2024-07-23 09:05:50             72         89  1.0              \n",
            "utsavdey1410/food-nutrition-dataset                        Food Nutrition Dataset                           694KB  2024-06-29 19:42:01           4200         96  1.0              \n",
            "muhammadroshaanriaz/time-wasters-on-social-media            Dark Side Of Social Media                        36KB  2024-07-08 21:34:36           1024         27  1.0              \n",
            "Dataset URL: https://www.kaggle.com/datasets/elikplim/forest-fires-data-set\n",
            "License(s): unknown\n",
            "Downloading forest-fires-data-set.zip to /content\n",
            "  0% 0.00/7.10k [00:00<?, ?B/s]\n",
            "100% 7.10k/7.10k [00:00<00:00, 14.8MB/s]\n"
          ]
        }
      ]
    },
    {
      "cell_type": "code",
      "source": [
        "print(dataset_name.split(\"/\")[1])"
      ],
      "metadata": {
        "colab": {
          "base_uri": "https://localhost:8080/"
        },
        "id": "CGybIxyLYfn6",
        "outputId": "ccb1f66c-54f9-478f-a6b2-588f3bfefef3"
      },
      "execution_count": 5,
      "outputs": [
        {
          "output_type": "stream",
          "name": "stdout",
          "text": [
            "forest-fires-data-set\n"
          ]
        }
      ]
    },
    {
      "cell_type": "code",
      "source": [
        "# !mkdir $dataset_name\n",
        "!unzip {dataset_name.split(\"/\")[1]+\".zip\"} -d {dataset_name.split(\"/\")[1]}"
      ],
      "metadata": {
        "colab": {
          "base_uri": "https://localhost:8080/"
        },
        "id": "2NzeU1b6YP8m",
        "outputId": "0bf37f29-517a-46b9-f0bc-a3f3d35d0c6a"
      },
      "execution_count": 6,
      "outputs": [
        {
          "output_type": "stream",
          "name": "stdout",
          "text": [
            "Archive:  forest-fires-data-set.zip\n",
            "  inflating: forest-fires-data-set/forestfires.csv  \n"
          ]
        }
      ]
    },
    {
      "cell_type": "code",
      "source": [
        "dataset_df = pd.read_csv(\"/content/forest-fires-data-set/forestfires.csv\")"
      ],
      "metadata": {
        "id": "h--QuH5PbOqV"
      },
      "execution_count": 8,
      "outputs": []
    },
    {
      "cell_type": "code",
      "source": [
        "dataset_df.info()"
      ],
      "metadata": {
        "colab": {
          "base_uri": "https://localhost:8080/"
        },
        "id": "RWK5YKwubsUz",
        "outputId": "071574e5-6606-4e2b-e700-3f793467bf80"
      },
      "execution_count": 10,
      "outputs": [
        {
          "output_type": "stream",
          "name": "stdout",
          "text": [
            "<class 'pandas.core.frame.DataFrame'>\n",
            "RangeIndex: 517 entries, 0 to 516\n",
            "Data columns (total 13 columns):\n",
            " #   Column  Non-Null Count  Dtype  \n",
            "---  ------  --------------  -----  \n",
            " 0   X       517 non-null    int64  \n",
            " 1   Y       517 non-null    int64  \n",
            " 2   month   517 non-null    object \n",
            " 3   day     517 non-null    object \n",
            " 4   FFMC    517 non-null    float64\n",
            " 5   DMC     517 non-null    float64\n",
            " 6   DC      517 non-null    float64\n",
            " 7   ISI     517 non-null    float64\n",
            " 8   temp    517 non-null    float64\n",
            " 9   RH      517 non-null    int64  \n",
            " 10  wind    517 non-null    float64\n",
            " 11  rain    517 non-null    float64\n",
            " 12  area    517 non-null    float64\n",
            "dtypes: float64(8), int64(3), object(2)\n",
            "memory usage: 52.6+ KB\n"
          ]
        }
      ]
    }
  ]
}